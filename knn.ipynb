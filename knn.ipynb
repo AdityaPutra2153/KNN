{
 "cells": [
  {
   "cell_type": "markdown",
   "id": "5ff17cf1",
   "metadata": {},
   "source": [
    "# Identitas Diri\n",
    "Nama : Aditya Herdiansyah Putra  \n",
    "NIM  : A11.2021.13948"
   ]
  },
  {
   "cell_type": "markdown",
   "id": "0cb25514",
   "metadata": {},
   "source": [
    "# Menambahkan library\n",
    " \"numpy\" berguna memudahkan kita melakukan perhitungan saintifik seperti matriks, aljabar, statistik, dan sebagainya.    \n",
    " \"matpotlib.pyplot\" berguna untuk memvisualisaikan data melalui grafik atau diagram      \n",
    " \"pandas\" berguna untuk memproses data, mulai pembersihan data, manipulasi data, hingga melakukan analisis data.\n",
    " "
   ]
  },
  {
   "cell_type": "code",
   "execution_count": 1,
   "id": "a9eaa38c",
   "metadata": {},
   "outputs": [],
   "source": [
    "import numpy as np\n",
    "import matplotlib.pyplot as plt\n",
    "import pandas as pd"
   ]
  },
  {
   "cell_type": "markdown",
   "id": "6886636e",
   "metadata": {},
   "source": [
    "# Import dataset\n",
    "Mengimport dataset dan kemudian pisahkan untuk atribut ditampung pada variable x dan untuk label ditampung pada variable y agar data tersebut bisa dilakukan proses klasifikasi. Setelah itu, kita tampilkan variable x dan y untuk memastikan bahwa perintah sudah berhasil dijalankan."
   ]
  },
  {
   "cell_type": "code",
   "execution_count": 76,
   "id": "caa32b07",
   "metadata": {},
   "outputs": [],
   "source": [
    "dataset = pd.read_csv(\"house_price.csv\")"
   ]
  },
  {
   "cell_type": "code",
   "execution_count": 77,
   "id": "35150ac1",
   "metadata": {},
   "outputs": [
    {
     "data": {
      "text/html": [
       "<div>\n",
       "<style scoped>\n",
       "    .dataframe tbody tr th:only-of-type {\n",
       "        vertical-align: middle;\n",
       "    }\n",
       "\n",
       "    .dataframe tbody tr th {\n",
       "        vertical-align: top;\n",
       "    }\n",
       "\n",
       "    .dataframe thead th {\n",
       "        text-align: right;\n",
       "    }\n",
       "</style>\n",
       "<table border=\"1\" class=\"dataframe\">\n",
       "  <thead>\n",
       "    <tr style=\"text-align: right;\">\n",
       "      <th></th>\n",
       "      <th>land_size_sqm</th>\n",
       "      <th>house_size_sqm</th>\n",
       "      <th>no_of_rooms</th>\n",
       "      <th>no_of_bathrooms</th>\n",
       "      <th>large_living_room</th>\n",
       "      <th>parking_space</th>\n",
       "      <th>front_garden</th>\n",
       "      <th>swimming_pool</th>\n",
       "      <th>distance_to_school</th>\n",
       "      <th>wall_fence</th>\n",
       "      <th>house_age</th>\n",
       "      <th>water_front</th>\n",
       "      <th>distance_to_supermarket_km</th>\n",
       "      <th>crime_rate_index</th>\n",
       "      <th>room_size</th>\n",
       "      <th>property_value</th>\n",
       "    </tr>\n",
       "  </thead>\n",
       "  <tbody>\n",
       "    <tr>\n",
       "      <th>0</th>\n",
       "      <td>201</td>\n",
       "      <td>177</td>\n",
       "      <td>3</td>\n",
       "      <td>1</td>\n",
       "      <td>0</td>\n",
       "      <td>1</td>\n",
       "      <td>1</td>\n",
       "      <td>0</td>\n",
       "      <td>3.3</td>\n",
       "      <td>1</td>\n",
       "      <td>10</td>\n",
       "      <td>0</td>\n",
       "      <td>6.8</td>\n",
       "      <td>0.90</td>\n",
       "      <td>0</td>\n",
       "      <td>165432</td>\n",
       "    </tr>\n",
       "    <tr>\n",
       "      <th>1</th>\n",
       "      <td>196</td>\n",
       "      <td>182</td>\n",
       "      <td>4</td>\n",
       "      <td>3</td>\n",
       "      <td>1</td>\n",
       "      <td>1</td>\n",
       "      <td>0</td>\n",
       "      <td>1</td>\n",
       "      <td>1.2</td>\n",
       "      <td>1</td>\n",
       "      <td>11</td>\n",
       "      <td>0</td>\n",
       "      <td>4.1</td>\n",
       "      <td>1.42</td>\n",
       "      <td>1</td>\n",
       "      <td>187043</td>\n",
       "    </tr>\n",
       "    <tr>\n",
       "      <th>2</th>\n",
       "      <td>198</td>\n",
       "      <td>182</td>\n",
       "      <td>4</td>\n",
       "      <td>4</td>\n",
       "      <td>1</td>\n",
       "      <td>1</td>\n",
       "      <td>0</td>\n",
       "      <td>1</td>\n",
       "      <td>5.9</td>\n",
       "      <td>0</td>\n",
       "      <td>20</td>\n",
       "      <td>0</td>\n",
       "      <td>2.1</td>\n",
       "      <td>4.12</td>\n",
       "      <td>1</td>\n",
       "      <td>148658</td>\n",
       "    </tr>\n",
       "    <tr>\n",
       "      <th>3</th>\n",
       "      <td>178</td>\n",
       "      <td>166</td>\n",
       "      <td>2</td>\n",
       "      <td>3</td>\n",
       "      <td>0</td>\n",
       "      <td>1</td>\n",
       "      <td>0</td>\n",
       "      <td>0</td>\n",
       "      <td>5.9</td>\n",
       "      <td>0</td>\n",
       "      <td>5</td>\n",
       "      <td>0</td>\n",
       "      <td>0.7</td>\n",
       "      <td>4.36</td>\n",
       "      <td>0</td>\n",
       "      <td>123785</td>\n",
       "    </tr>\n",
       "    <tr>\n",
       "      <th>4</th>\n",
       "      <td>183</td>\n",
       "      <td>165</td>\n",
       "      <td>3</td>\n",
       "      <td>1</td>\n",
       "      <td>1</td>\n",
       "      <td>1</td>\n",
       "      <td>0</td>\n",
       "      <td>0</td>\n",
       "      <td>3.8</td>\n",
       "      <td>1</td>\n",
       "      <td>8</td>\n",
       "      <td>0</td>\n",
       "      <td>0.7</td>\n",
       "      <td>0.42</td>\n",
       "      <td>0</td>\n",
       "      <td>156470</td>\n",
       "    </tr>\n",
       "  </tbody>\n",
       "</table>\n",
       "</div>"
      ],
      "text/plain": [
       "   land_size_sqm  house_size_sqm  no_of_rooms  no_of_bathrooms  \\\n",
       "0            201             177            3                1   \n",
       "1            196             182            4                3   \n",
       "2            198             182            4                4   \n",
       "3            178             166            2                3   \n",
       "4            183             165            3                1   \n",
       "\n",
       "   large_living_room  parking_space  front_garden  swimming_pool  \\\n",
       "0                  0              1             1              0   \n",
       "1                  1              1             0              1   \n",
       "2                  1              1             0              1   \n",
       "3                  0              1             0              0   \n",
       "4                  1              1             0              0   \n",
       "\n",
       "   distance_to_school  wall_fence  house_age  water_front  \\\n",
       "0                 3.3           1         10            0   \n",
       "1                 1.2           1         11            0   \n",
       "2                 5.9           0         20            0   \n",
       "3                 5.9           0          5            0   \n",
       "4                 3.8           1          8            0   \n",
       "\n",
       "   distance_to_supermarket_km  crime_rate_index  room_size  property_value  \n",
       "0                         6.8              0.90          0          165432  \n",
       "1                         4.1              1.42          1          187043  \n",
       "2                         2.1              4.12          1          148658  \n",
       "3                         0.7              4.36          0          123785  \n",
       "4                         0.7              0.42          0          156470  "
      ]
     },
     "execution_count": 77,
     "metadata": {},
     "output_type": "execute_result"
    }
   ],
   "source": [
    "dataset.head()"
   ]
  },
  {
   "cell_type": "code",
   "execution_count": 203,
   "id": "c430de82",
   "metadata": {},
   "outputs": [],
   "source": [
    "x = dataset.iloc[:, [0, 1]].values"
   ]
  },
  {
   "cell_type": "code",
   "execution_count": 204,
   "id": "5770a0bf",
   "metadata": {},
   "outputs": [],
   "source": [
    "y = dataset.iloc[:, 4].values"
   ]
  },
  {
   "cell_type": "code",
   "execution_count": 205,
   "id": "ebecc46a",
   "metadata": {},
   "outputs": [
    {
     "name": "stdout",
     "output_type": "stream",
     "text": [
      "[[201 177]\n",
      " [196 182]\n",
      " [198 182]\n",
      " ...\n",
      " [153 147]\n",
      " [180 158]\n",
      " [695 619]]\n"
     ]
    }
   ],
   "source": [
    "print(x)"
   ]
  },
  {
   "cell_type": "code",
   "execution_count": 206,
   "id": "e5cc6e18",
   "metadata": {},
   "outputs": [
    {
     "name": "stdout",
     "output_type": "stream",
     "text": [
      "[0 1 1 ... 1 0 1]\n"
     ]
    }
   ],
   "source": [
    "print(y)"
   ]
  },
  {
   "cell_type": "markdown",
   "id": "df425ac3",
   "metadata": {},
   "source": [
    "# Memisahkan data untuk Training dan Testing\n",
    "Memisahkan data yang mana sebanyak 3/4 dari data akan digunakan untuk Training sedangkan untuk sisanya yaitu 1/4 digunakan untuk Testing. Pada proses ini, saya memanfaatkan library dari sklearn.model_selection dan menggunakan function train_test_split."
   ]
  },
  {
   "cell_type": "code",
   "execution_count": 207,
   "id": "b37e7451",
   "metadata": {},
   "outputs": [],
   "source": [
    "from sklearn.model_selection import train_test_split\n",
    "x_train, x_test, y_train, y_test = train_test_split(x,y, test_size=0.25, random_state=0)\n"
   ]
  },
  {
   "cell_type": "code",
   "execution_count": 208,
   "id": "61242664",
   "metadata": {},
   "outputs": [
    {
     "name": "stdout",
     "output_type": "stream",
     "text": [
      "[[212 198]\n",
      " [185 184]\n",
      " [277 274]\n",
      " ...\n",
      " [214 194]\n",
      " [134 115]\n",
      " [345 319]]\n"
     ]
    }
   ],
   "source": [
    "print(x_train)"
   ]
  },
  {
   "cell_type": "code",
   "execution_count": 209,
   "id": "ba835878",
   "metadata": {},
   "outputs": [
    {
     "data": {
      "text/plain": [
       "3715"
      ]
     },
     "execution_count": 209,
     "metadata": {},
     "output_type": "execute_result"
    }
   ],
   "source": [
    "len(x_train)"
   ]
  },
  {
   "cell_type": "code",
   "execution_count": 210,
   "id": "05c9c868",
   "metadata": {},
   "outputs": [
    {
     "data": {
      "text/plain": [
       "1239"
      ]
     },
     "execution_count": 210,
     "metadata": {},
     "output_type": "execute_result"
    }
   ],
   "source": [
    "len(x_test)"
   ]
  },
  {
   "cell_type": "code",
   "execution_count": 211,
   "id": "d337c5b3",
   "metadata": {},
   "outputs": [
    {
     "data": {
      "text/plain": [
       "3715"
      ]
     },
     "execution_count": 211,
     "metadata": {},
     "output_type": "execute_result"
    }
   ],
   "source": [
    "len(y_train)"
   ]
  },
  {
   "cell_type": "code",
   "execution_count": 212,
   "id": "2fde128e",
   "metadata": {},
   "outputs": [
    {
     "data": {
      "text/plain": [
       "1239"
      ]
     },
     "execution_count": 212,
     "metadata": {},
     "output_type": "execute_result"
    }
   ],
   "source": [
    "len(y_test)"
   ]
  },
  {
   "cell_type": "code",
   "execution_count": 213,
   "id": "90cb1c62",
   "metadata": {},
   "outputs": [
    {
     "data": {
      "text/plain": [
       "4954"
      ]
     },
     "execution_count": 213,
     "metadata": {},
     "output_type": "execute_result"
    }
   ],
   "source": [
    "len(x)"
   ]
  },
  {
   "cell_type": "code",
   "execution_count": 214,
   "id": "9411f37c",
   "metadata": {},
   "outputs": [
    {
     "data": {
      "text/plain": [
       "4954"
      ]
     },
     "execution_count": 214,
     "metadata": {},
     "output_type": "execute_result"
    }
   ],
   "source": [
    "len(y)"
   ]
  },
  {
   "cell_type": "markdown",
   "id": "30bba6a7",
   "metadata": {},
   "source": [
    "# Mengubah data menjadi skala\n",
    "Proses ini dilakukan karena data x_train dan x_test memiliki jarak/interval yang cukup jauh maka agar memudahkan saya dalam memproses data tersebut maka saya membutuhkan skala. Pada proses ini saya menggunakan StandartScaler dari library sklearn.preprocessing."
   ]
  },
  {
   "cell_type": "code",
   "execution_count": 215,
   "id": "d1d3f772",
   "metadata": {},
   "outputs": [],
   "source": [
    "from sklearn.preprocessing import StandardScaler\n",
    "sc = StandardScaler()\n",
    "x_train = sc.fit_transform(x_train)\n",
    "x_test = sc.transform(x_test)"
   ]
  },
  {
   "cell_type": "code",
   "execution_count": 216,
   "id": "de086321",
   "metadata": {},
   "outputs": [
    {
     "name": "stdout",
     "output_type": "stream",
     "text": [
      "[[-0.3657805  -0.34723943]\n",
      " [-0.63060523 -0.49685852]\n",
      " [ 0.27176053  0.46497852]\n",
      " ...\n",
      " [-0.34616385 -0.38998774]\n",
      " [-1.13082973 -1.23426692]\n",
      " [ 0.93872652  0.94589704]]\n"
     ]
    }
   ],
   "source": [
    "print(x_train)"
   ]
  },
  {
   "cell_type": "code",
   "execution_count": 217,
   "id": "833e0b8d",
   "metadata": {},
   "outputs": [
    {
     "name": "stdout",
     "output_type": "stream",
     "text": [
      "[[ 0.91910987  0.97795828]\n",
      " [-0.32654721 -0.46479729]\n",
      " [ 0.44831035  0.44360437]\n",
      " ...\n",
      " [ 0.54639358  0.64665885]\n",
      " [-0.30693056 -0.30449111]\n",
      " [ 1.31144281  1.37338017]]\n"
     ]
    }
   ],
   "source": [
    "print(x_test)"
   ]
  },
  {
   "cell_type": "markdown",
   "id": "55036e2b",
   "metadata": {},
   "source": [
    "# Menggunakan KNN\n",
    "Untuk menggunakan metode KNN maka saya menggunakan library skelarn.neighbors dan mengimport KneighborsClassifier."
   ]
  },
  {
   "cell_type": "code",
   "execution_count": 225,
   "id": "cf007420",
   "metadata": {},
   "outputs": [
    {
     "data": {
      "text/plain": [
       "KNeighborsClassifier()"
      ]
     },
     "execution_count": 225,
     "metadata": {},
     "output_type": "execute_result"
    }
   ],
   "source": [
    "from sklearn.neighbors import KNeighborsClassifier\n",
    "classifier = KNeighborsClassifier(n_neighbors = 5, metric = 'minkowski', p = 2)\n",
    "classifier.fit(x_train, y_train)"
   ]
  },
  {
   "cell_type": "markdown",
   "id": "ac761c27",
   "metadata": {},
   "source": [
    "# Menghitung Prediksi\n",
    "Dalam menghitung prediksi saya menggunakan funtion predict"
   ]
  },
  {
   "cell_type": "code",
   "execution_count": 226,
   "id": "84bfce8e",
   "metadata": {},
   "outputs": [
    {
     "name": "stderr",
     "output_type": "stream",
     "text": [
      "C:\\Users\\ACER\\anaconda3\\lib\\site-packages\\sklearn\\neighbors\\_classification.py:228: FutureWarning: Unlike other reduction functions (e.g. `skew`, `kurtosis`), the default behavior of `mode` typically preserves the axis it acts along. In SciPy 1.11.0, this behavior will change: the default value of `keepdims` will become False, the `axis` over which the statistic is taken will be eliminated, and the value None will no longer be accepted. Set `keepdims` to True or False to avoid this warning.\n",
      "  mode, _ = stats.mode(_y[neigh_ind, k], axis=1)\n"
     ]
    }
   ],
   "source": [
    "y_pred = classifier.predict(x_test)"
   ]
  },
  {
   "cell_type": "markdown",
   "id": "b2e90869",
   "metadata": {},
   "source": [
    "# Menghitung Evaluasi\n",
    "Pada proses ini dimaksudkan untuk mengetahui tingkat keakuratan/nilai akurasinya. Saya menggunakan diagram confussion matriks untuk mengetahui tingkat keakuratan/ nilai akurasi dari data testing terhadap data prediksi diatas."
   ]
  },
  {
   "cell_type": "code",
   "execution_count": 227,
   "id": "6e82591e",
   "metadata": {},
   "outputs": [
    {
     "name": "stdout",
     "output_type": "stream",
     "text": [
      "[[153 175]\n",
      " [119 792]]\n"
     ]
    }
   ],
   "source": [
    "from sklearn.metrics import confusion_matrix\n",
    "cm = confusion_matrix(y_test, y_pred)\n",
    "print (cm)"
   ]
  },
  {
   "cell_type": "markdown",
   "id": "38e33e4f",
   "metadata": {},
   "source": [
    "Maka dari data yang dihasilkan diatas dapat saya hitung bahwa total tingkat akurasinya yaitu 0.76. yaitu dengan membagi 153+792 dengan jumlah keseluruhan dari data yaitu 175+153+119+792 maka dapat menghasilkan tingkat kakuratannya."
   ]
  },
  {
   "cell_type": "markdown",
   "id": "7cbef771",
   "metadata": {},
   "source": [
    "# Memvisualisasikan hasil Training Set"
   ]
  },
  {
   "cell_type": "code",
   "execution_count": 228,
   "id": "d3b087b1",
   "metadata": {},
   "outputs": [
    {
     "name": "stderr",
     "output_type": "stream",
     "text": [
      "C:\\Users\\ACER\\anaconda3\\lib\\site-packages\\sklearn\\neighbors\\_classification.py:228: FutureWarning: Unlike other reduction functions (e.g. `skew`, `kurtosis`), the default behavior of `mode` typically preserves the axis it acts along. In SciPy 1.11.0, this behavior will change: the default value of `keepdims` will become False, the `axis` over which the statistic is taken will be eliminated, and the value None will no longer be accepted. Set `keepdims` to True or False to avoid this warning.\n",
      "  mode, _ = stats.mode(_y[neigh_ind, k], axis=1)\n",
      "*c* argument looks like a single numeric RGB or RGBA sequence, which should be avoided as value-mapping will have precedence in case its length matches with *x* & *y*.  Please use the *color* keyword-argument or provide a 2D array with a single row if you intend to specify the same RGB or RGBA value for all points.\n",
      "*c* argument looks like a single numeric RGB or RGBA sequence, which should be avoided as value-mapping will have precedence in case its length matches with *x* & *y*.  Please use the *color* keyword-argument or provide a 2D array with a single row if you intend to specify the same RGB or RGBA value for all points.\n"
     ]
    },
    {
     "data": {
      "image/png": "[encoded data removed]",
      "text/plain": [
       "<Figure size 640x480 with 1 Axes>"
      ]
     },
     "metadata": {},
     "output_type": "display_data"
    }
   ],
   "source": [
    "from matplotlib.colors import ListedColormap\n",
    "X_set, y_set = x_train, y_train\n",
    "X1, X2 = np.meshgrid(np.arange(start = X_set[:, 0].min() - 1, stop = X_set[:, 0].max() + 1, step = 0.01),\n",
    "                     np.arange(start = X_set[:, 1].min() - 1, stop = X_set[:, 1].max() + 1, step = 0.01))\n",
    "plt.contourf(X1, X2, classifier.predict(np.array([X1.ravel(), X2.ravel()]).T).reshape(X1.shape),\n",
    "             alpha = 0.75, cmap = ListedColormap(('red', 'green')))\n",
    "plt.xlim(X1.min(), X1.max())\n",
    "plt.ylim(X2.min(), X2.max())\n",
    "for i, j in enumerate(np.unique(y_set)):\n",
    "    plt.scatter(X_set[y_set == j, 0], X_set[y_set == j, 1],\n",
    "                c = ListedColormap(('red', 'green'))(i), label = j)\n",
    "plt.title('Klasifikasi Data dengan K-NN (Training set)')\n",
    "plt.xlabel('Land Size')\n",
    "plt.ylabel('House Size')\n",
    "plt.legend()\n",
    "plt.show()"
   ]
  },
  {
   "cell_type": "markdown",
   "id": "6c0394eb",
   "metadata": {},
   "source": [
    "# Memvisualisasikan hasil Test Set"
   ]
  },
  {
   "cell_type": "code",
   "execution_count": 230,
   "id": "a7c5eca5",
   "metadata": {},
   "outputs": [
    {
     "name": "stderr",
     "output_type": "stream",
     "text": [
      "C:\\Users\\ACER\\anaconda3\\lib\\site-packages\\sklearn\\neighbors\\_classification.py:228: FutureWarning: Unlike other reduction functions (e.g. `skew`, `kurtosis`), the default behavior of `mode` typically preserves the axis it acts along. In SciPy 1.11.0, this behavior will change: the default value of `keepdims` will become False, the `axis` over which the statistic is taken will be eliminated, and the value None will no longer be accepted. Set `keepdims` to True or False to avoid this warning.\n",
      "  mode, _ = stats.mode(_y[neigh_ind, k], axis=1)\n",
      "*c* argument looks like a single numeric RGB or RGBA sequence, which should be avoided as value-mapping will have precedence in case its length matches with *x* & *y*.  Please use the *color* keyword-argument or provide a 2D array with a single row if you intend to specify the same RGB or RGBA value for all points.\n",
      "*c* argument looks like a single numeric RGB or RGBA sequence, which should be avoided as value-mapping will have precedence in case its length matches with *x* & *y*.  Please use the *color* keyword-argument or provide a 2D array with a single row if you intend to specify the same RGB or RGBA value for all points.\n"
     ]
    },
    {
     "data": {
      "image/png": "[encoded data removed]",
      "text/plain": [
       "<Figure size 640x480 with 1 Axes>"
      ]
     },
     "metadata": {},
     "output_type": "display_data"
    }
   ],
   "source": [
    "from matplotlib.colors import ListedColormap\n",
    "X_set, y_set = x_test, y_test\n",
    "X1, X2 = np.meshgrid(np.arange(start = X_set[:, 0].min() - 1, stop = X_set[:, 0].max() + 1, step = 0.01),\n",
    "                     np.arange(start = X_set[:, 1].min() - 1, stop = X_set[:, 1].max() + 1, step = 0.01))\n",
    "plt.contourf(X1, X2, classifier.predict(np.array([X1.ravel(), X2.ravel()]).T).reshape(X1.shape),\n",
    "             alpha = 0.75, cmap = ListedColormap(('red', 'green')))\n",
    "plt.xlim(X1.min(), X1.max())\n",
    "plt.ylim(X2.min(), X2.max())\n",
    "for i, j in enumerate(np.unique(y_set)):\n",
    "    plt.scatter(X_set[y_set == j, 0], X_set[y_set == j, 1],\n",
    "                c = ListedColormap(('red', 'green'))(i), label = j)\n",
    "plt.title('Klasifikasi Data dengan K-NN (Test set)')\n",
    "plt.xlabel('Land Size')\n",
    "plt.ylabel('House Size')\n",
    "plt.legend()\n",
    "plt.show()"
   ]
  },
  {
   "cell_type": "code",
   "execution_count": null,
   "id": "bb36438b",
   "metadata": {},
   "outputs": [],
   "source": []
  }
 ],
 "metadata": {
  "kernelspec": {
   "display_name": "Python 3 (ipykernel)",
   "language": "python",
   "name": "python3"
  },
  "language_info": {
   "codemirror_mode": {
    "name": "ipython",
    "version": 3
   },
   "file_extension": ".py",
   "mimetype": "text/x-python",
   "name": "python",
   "nbconvert_exporter": "python",
   "pygments_lexer": "ipython3",
   "version": "3.9.13"
  },
  "toc": {
   "base_numbering": 1,
   "nav_menu": {},
   "number_sections": true,
   "sideBar": true,
   "skip_h1_title": false,
   "title_cell": "Table of Contents",
   "title_sidebar": "Contents",
   "toc_cell": false,
   "toc_position": {},
   "toc_section_display": true,
   "toc_window_display": false
  },
  "varInspector": {
   "cols": {
    "lenName": 16,
    "lenType": 16,
    "lenVar": 40
   },
   "kernels_config": {
    "python": {
     "delete_cmd_postfix": "",
     "delete_cmd_prefix": "del ",
     "library": "var_list.py",
     "varRefreshCmd": "print(var_dic_list())"
    },
    "r": {
     "delete_cmd_postfix": ") ",
     "delete_cmd_prefix": "rm(",
     "library": "var_list.r",
     "varRefreshCmd": "cat(var_dic_list()) "
    }
   },
   "types_to_exclude": [
    "module",
    "function",
    "builtin_function_or_method",
    "instance",
    "_Feature"
   ],
   "window_display": false
  }
 },
 "nbformat": 4,
 "nbformat_minor": 5
}
